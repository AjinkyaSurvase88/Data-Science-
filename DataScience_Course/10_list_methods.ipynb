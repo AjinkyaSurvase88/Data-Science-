{
 "cells": [
  {
   "cell_type": "code",
   "execution_count": 1,
   "id": "38624ce0-5c8d-4839-87fe-b220a022ac2e",
   "metadata": {},
   "outputs": [],
   "source": [
    "l=[3,4,5,5]"
   ]
  },
  {
   "cell_type": "code",
   "execution_count": 2,
   "id": "f66ea124-be96-453c-bdae-775727a07ed5",
   "metadata": {},
   "outputs": [
    {
     "data": {
      "text/plain": [
       "5"
      ]
     },
     "execution_count": 2,
     "metadata": {},
     "output_type": "execute_result"
    }
   ],
   "source": [
    "l[2]"
   ]
  },
  {
   "cell_type": "code",
   "execution_count": 3,
   "id": "6554cfc2-e785-4058-8e54-29ba4e2bcf02",
   "metadata": {},
   "outputs": [
    {
     "data": {
      "text/plain": [
       "[3, 4, 5, 5]"
      ]
     },
     "execution_count": 3,
     "metadata": {},
     "output_type": "execute_result"
    }
   ],
   "source": [
    "l"
   ]
  },
  {
   "cell_type": "code",
   "execution_count": 4,
   "id": "d08dd19f-c18a-4a77-a848-6e38f95e4503",
   "metadata": {},
   "outputs": [],
   "source": [
    "l[0]=10"
   ]
  },
  {
   "cell_type": "code",
   "execution_count": 5,
   "id": "1cbda616-2269-4043-a6c7-5f6f3f512b0a",
   "metadata": {},
   "outputs": [
    {
     "data": {
      "text/plain": [
       "[10, 4, 5, 5]"
      ]
     },
     "execution_count": 5,
     "metadata": {},
     "output_type": "execute_result"
    }
   ],
   "source": [
    "l"
   ]
  },
  {
   "cell_type": "code",
   "execution_count": 6,
   "id": "08ce0fad-76dd-4290-85e7-5e89d3490c81",
   "metadata": {},
   "outputs": [],
   "source": [
    "l.append(20)"
   ]
  },
  {
   "cell_type": "code",
   "execution_count": 7,
   "id": "f91c5e14-3a07-495b-a482-2b7c0cc0a5ab",
   "metadata": {},
   "outputs": [
    {
     "data": {
      "text/plain": [
       "[10, 4, 5, 5, 20]"
      ]
     },
     "execution_count": 7,
     "metadata": {},
     "output_type": "execute_result"
    }
   ],
   "source": [
    "l"
   ]
  },
  {
   "cell_type": "code",
   "execution_count": 8,
   "id": "1ede17da-756b-4c2c-a214-1600b4b4a524",
   "metadata": {},
   "outputs": [],
   "source": [
    "l.append(500)"
   ]
  },
  {
   "cell_type": "code",
   "execution_count": 9,
   "id": "60b798cc-5b83-4fc7-90c9-efadfd50e942",
   "metadata": {},
   "outputs": [
    {
     "data": {
      "text/plain": [
       "[10, 4, 5, 5, 20, 500]"
      ]
     },
     "execution_count": 9,
     "metadata": {},
     "output_type": "execute_result"
    }
   ],
   "source": [
    "l"
   ]
  },
  {
   "cell_type": "code",
   "execution_count": 10,
   "id": "9b8130c8-3b37-4ea5-9093-557782e19b44",
   "metadata": {},
   "outputs": [],
   "source": [
    "l2=[99,88]"
   ]
  },
  {
   "cell_type": "code",
   "execution_count": 11,
   "id": "19636674-c2fc-4e78-bb62-50f2804a4481",
   "metadata": {},
   "outputs": [],
   "source": [
    "l.append(l2)"
   ]
  },
  {
   "cell_type": "code",
   "execution_count": 12,
   "id": "98ae9376-c543-49ed-822b-41d127e25851",
   "metadata": {},
   "outputs": [
    {
     "data": {
      "text/plain": [
       "[10, 4, 5, 5, 20, 500, [99, 88]]"
      ]
     },
     "execution_count": 12,
     "metadata": {},
     "output_type": "execute_result"
    }
   ],
   "source": [
    "l"
   ]
  },
  {
   "cell_type": "code",
   "execution_count": 13,
   "id": "970ac3b6-fce5-4586-894d-39bc15684bb5",
   "metadata": {},
   "outputs": [
    {
     "data": {
      "text/plain": [
       "[10, 4, 5, 5, 20, 500, [99, 88], 99, 88]"
      ]
     },
     "execution_count": 13,
     "metadata": {},
     "output_type": "execute_result"
    }
   ],
   "source": [
    "l.extend(l2)\n",
    "l"
   ]
  },
  {
   "cell_type": "code",
   "execution_count": 14,
   "id": "a14fd628-2140-4d29-b0c2-e98acf196acf",
   "metadata": {},
   "outputs": [
    {
     "data": {
      "text/plain": [
       "20"
      ]
     },
     "execution_count": 14,
     "metadata": {},
     "output_type": "execute_result"
    }
   ],
   "source": [
    "l.pop(4)"
   ]
  },
  {
   "cell_type": "code",
   "execution_count": 15,
   "id": "e1536590-ca67-480d-8dd7-0da319d896b2",
   "metadata": {},
   "outputs": [
    {
     "data": {
      "text/plain": [
       "[10, 4, 5, 5, 500, [99, 88], 99, 88]"
      ]
     },
     "execution_count": 15,
     "metadata": {},
     "output_type": "execute_result"
    }
   ],
   "source": [
    "l"
   ]
  },
  {
   "cell_type": "code",
   "execution_count": 17,
   "id": "978b6bf9-41a9-4601-a3fa-e0ddc86858a1",
   "metadata": {},
   "outputs": [
    {
     "data": {
      "text/plain": [
       "99"
      ]
     },
     "execution_count": 17,
     "metadata": {},
     "output_type": "execute_result"
    }
   ],
   "source": [
    "l.pop(5)"
   ]
  },
  {
   "cell_type": "code",
   "execution_count": 18,
   "id": "3a5eaa18-7181-4760-8c25-c4746cd7c4b6",
   "metadata": {},
   "outputs": [
    {
     "data": {
      "text/plain": [
       "[10, 4, 5, 5, 500, 88]"
      ]
     },
     "execution_count": 18,
     "metadata": {},
     "output_type": "execute_result"
    }
   ],
   "source": [
    "l"
   ]
  },
  {
   "cell_type": "code",
   "execution_count": 21,
   "id": "c6bc9099-2afe-4adf-a29a-3a862a337cd7",
   "metadata": {},
   "outputs": [
    {
     "data": {
      "text/plain": [
       "4"
      ]
     },
     "execution_count": 21,
     "metadata": {},
     "output_type": "execute_result"
    }
   ],
   "source": [
    "l.index(500)"
   ]
  },
  {
   "cell_type": "code",
   "execution_count": 22,
   "id": "0e249bd5-be2c-4b3b-b1c8-8014a22ba76d",
   "metadata": {},
   "outputs": [
    {
     "data": {
      "text/plain": [
       "5"
      ]
     },
     "execution_count": 22,
     "metadata": {},
     "output_type": "execute_result"
    }
   ],
   "source": [
    "l.index(88)"
   ]
  },
  {
   "cell_type": "code",
   "execution_count": 24,
   "id": "a659eb2b-d766-4c35-8386-41c4d3b2bff7",
   "metadata": {},
   "outputs": [],
   "source": [
    "l.sort()"
   ]
  },
  {
   "cell_type": "code",
   "execution_count": 25,
   "id": "5b24fba2-7372-4dd7-ab4d-fafa7582f656",
   "metadata": {},
   "outputs": [
    {
     "data": {
      "text/plain": [
       "[4, 5, 5, 10, 88, 500]"
      ]
     },
     "execution_count": 25,
     "metadata": {},
     "output_type": "execute_result"
    }
   ],
   "source": [
    "l"
   ]
  },
  {
   "cell_type": "code",
   "execution_count": 26,
   "id": "ec832979-bdc7-4cb6-b59f-73f90a57837e",
   "metadata": {},
   "outputs": [
    {
     "data": {
      "text/plain": [
       "[4, 5, 5, 10, 88, 500]"
      ]
     },
     "execution_count": 26,
     "metadata": {},
     "output_type": "execute_result"
    }
   ],
   "source": [
    "sorted(l)"
   ]
  },
  {
   "cell_type": "code",
   "execution_count": 27,
   "id": "742c67ef-e575-4a86-8792-ea99dc558fc2",
   "metadata": {},
   "outputs": [],
   "source": [
    "new=[5,6,3,5,1]"
   ]
  },
  {
   "cell_type": "code",
   "execution_count": 28,
   "id": "21b926a6-2c3e-4a8e-829d-4b03cf7af54d",
   "metadata": {},
   "outputs": [
    {
     "data": {
      "text/plain": [
       "[1, 3, 5, 5, 6]"
      ]
     },
     "execution_count": 28,
     "metadata": {},
     "output_type": "execute_result"
    }
   ],
   "source": [
    "sorted(new)"
   ]
  },
  {
   "cell_type": "code",
   "execution_count": 29,
   "id": "f3152d8c-12c7-4027-b45c-e38a08ffc000",
   "metadata": {},
   "outputs": [
    {
     "data": {
      "text/plain": [
       "[5, 6, 3, 5, 1]"
      ]
     },
     "execution_count": 29,
     "metadata": {},
     "output_type": "execute_result"
    }
   ],
   "source": [
    "new"
   ]
  },
  {
   "cell_type": "code",
   "execution_count": 30,
   "id": "f5aab25a-7638-4bb8-86a3-1ca6e9076a1c",
   "metadata": {},
   "outputs": [],
   "source": [
    "y=[2,3,[3,5],True]"
   ]
  },
  {
   "cell_type": "code",
   "execution_count": 32,
   "id": "07e49377-d219-4ed5-8f3d-10e3ffa0f55a",
   "metadata": {},
   "outputs": [
    {
     "data": {
      "text/plain": [
       "[3, 5]"
      ]
     },
     "execution_count": 32,
     "metadata": {},
     "output_type": "execute_result"
    }
   ],
   "source": [
    "y[2]"
   ]
  },
  {
   "cell_type": "code",
   "execution_count": 33,
   "id": "4154d2c1-b128-495d-8c2a-83eea0c5fb44",
   "metadata": {},
   "outputs": [
    {
     "data": {
      "text/plain": [
       "5"
      ]
     },
     "execution_count": 33,
     "metadata": {},
     "output_type": "execute_result"
    }
   ],
   "source": [
    "y[2][1]"
   ]
  },
  {
   "cell_type": "code",
   "execution_count": 34,
   "id": "8371de1d-265f-406b-9092-08e94a66d76a",
   "metadata": {},
   "outputs": [],
   "source": [
    "l1=[3,4,5,24]\n",
    "l2=[4,5,6,78]"
   ]
  },
  {
   "cell_type": "code",
   "execution_count": 35,
   "id": "68874491-e9d8-40c8-ba8d-a51e5d4935de",
   "metadata": {},
   "outputs": [
    {
     "data": {
      "text/plain": [
       "[3, 4, 5, 24, 4, 5, 6, 78]"
      ]
     },
     "execution_count": 35,
     "metadata": {},
     "output_type": "execute_result"
    }
   ],
   "source": [
    "l1+l2"
   ]
  },
  {
   "cell_type": "code",
   "execution_count": 36,
   "id": "bf3932b9-d036-4e29-84de-a5eddcf81f49",
   "metadata": {},
   "outputs": [
    {
     "name": "stdout",
     "output_type": "stream",
     "text": [
      "present\n"
     ]
    }
   ],
   "source": [
    "if 3 in l1:\n",
    "    print(\"present\")"
   ]
  },
  {
   "cell_type": "code",
   "execution_count": 37,
   "id": "652e09ed-d30b-49c1-a9cf-c3d726d71ba9",
   "metadata": {},
   "outputs": [],
   "source": [
    "if 31 in l1:\n",
    "    print(\"present\")"
   ]
  },
  {
   "cell_type": "code",
   "execution_count": 41,
   "id": "52a3eb17-5d7d-4d85-abfc-ac1a9f53a088",
   "metadata": {},
   "outputs": [
    {
     "data": {
      "text/plain": [
       "True"
      ]
     },
     "execution_count": 41,
     "metadata": {},
     "output_type": "execute_result"
    }
   ],
   "source": [
    "3 in l1"
   ]
  },
  {
   "cell_type": "code",
   "execution_count": 42,
   "id": "51dc8da6-a24d-4b25-8541-2770a6e3a31a",
   "metadata": {},
   "outputs": [],
   "source": [
    "s=\"jack-jill-ajinkya-shubham-amol-vishwa-mahesh\""
   ]
  },
  {
   "cell_type": "code",
   "execution_count": 43,
   "id": "1d30c831-9cd3-47ed-a554-558c6575354b",
   "metadata": {},
   "outputs": [
    {
     "data": {
      "text/plain": [
       "'jack-jill-ajinkya-shubham-amol-vishwa-mahesh'"
      ]
     },
     "execution_count": 43,
     "metadata": {},
     "output_type": "execute_result"
    }
   ],
   "source": [
    "s"
   ]
  },
  {
   "cell_type": "code",
   "execution_count": 45,
   "id": "bdee3acd-ea9f-4595-b949-b8aeb3c17c9e",
   "metadata": {},
   "outputs": [],
   "source": [
    "new=s.split(\"-\")"
   ]
  },
  {
   "cell_type": "code",
   "execution_count": 46,
   "id": "04fe72fe-f1cd-4894-b293-36db21adbb9d",
   "metadata": {},
   "outputs": [
    {
     "data": {
      "text/plain": [
       "['jack', 'jill', 'ajinkya', 'shubham', 'amol', 'vishwa', 'mahesh']"
      ]
     },
     "execution_count": 46,
     "metadata": {},
     "output_type": "execute_result"
    }
   ],
   "source": [
    "new"
   ]
  },
  {
   "cell_type": "code",
   "execution_count": null,
   "id": "263fa0ac-670a-4254-9989-ed89d1d1028d",
   "metadata": {},
   "outputs": [],
   "source": [
    " "
   ]
  }
 ],
 "metadata": {
  "kernelspec": {
   "display_name": "Python 3 (ipykernel)",
   "language": "python",
   "name": "python3"
  },
  "language_info": {
   "codemirror_mode": {
    "name": "ipython",
    "version": 3
   },
   "file_extension": ".py",
   "mimetype": "text/x-python",
   "name": "python",
   "nbconvert_exporter": "python",
   "pygments_lexer": "ipython3",
   "version": "3.12.7"
  }
 },
 "nbformat": 4,
 "nbformat_minor": 5
}
