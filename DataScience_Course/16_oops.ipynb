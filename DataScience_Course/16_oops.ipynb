{
 "cells": [
  {
   "cell_type": "code",
   "execution_count": 10,
   "id": "4d434c74-90cf-4118-a489-03fe0b1a08de",
   "metadata": {},
   "outputs": [
    {
     "name": "stdout",
     "output_type": "stream",
     "text": [
      "The company of Ajinkya is HP with salary $4700\n",
      "The time is now\n",
      "The company is HP\n"
     ]
    }
   ],
   "source": [
    "class Employee:\n",
    "    company=\"HP\"\n",
    "    def __init__(self,name,salary):\n",
    "        self.name=name\n",
    "        self.salary=salary\n",
    "\n",
    "    def printDetails(self):\n",
    "        print(f\"The company of {self.name} is {self.company} with salary ${self.salary}\")\n",
    "\n",
    "    @staticmethod\n",
    "    def printTime():\n",
    "        print(f\"The time is now\")\n",
    "\n",
    "    @classmethod  # it should include the in class\n",
    "    def printClassDetails(cls):\n",
    "        print(f\"The company is {cls.company}\")\n",
    "\n",
    "e = Employee(\"Ajinkya\",4700)\n",
    "e.printDetails()\n",
    "e.printTime()\n",
    "e.printClassDetails()\n"
   ]
  }
 ],
 "metadata": {
  "kernelspec": {
   "display_name": "Python 3 (ipykernel)",
   "language": "python",
   "name": "python3"
  },
  "language_info": {
   "codemirror_mode": {
    "name": "ipython",
    "version": 3
   },
   "file_extension": ".py",
   "mimetype": "text/x-python",
   "name": "python",
   "nbconvert_exporter": "python",
   "pygments_lexer": "ipython3",
   "version": "3.12.7"
  }
 },
 "nbformat": 4,
 "nbformat_minor": 5
}
