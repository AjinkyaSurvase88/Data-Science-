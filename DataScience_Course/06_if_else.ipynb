{
 "cells": [
  {
   "cell_type": "code",
   "execution_count": 4,
   "id": "b26933f8-7ce2-4f2c-b63a-19cbbde22c1a",
   "metadata": {},
   "outputs": [],
   "source": [
    "a=54"
   ]
  },
  {
   "cell_type": "code",
   "execution_count": 5,
   "id": "075b5a58-3d6f-4768-b956-57d45f828910",
   "metadata": {},
   "outputs": [
    {
     "name": "stdout",
     "output_type": "stream",
     "text": [
      "a is greater than 53\n"
     ]
    }
   ],
   "source": [
    "if (a>53):\n",
    "    print(\"a is greater than 53\")"
   ]
  },
  {
   "cell_type": "code",
   "execution_count": 7,
   "id": "d775ef39-c4a2-4965-a27b-f484a52c907b",
   "metadata": {},
   "outputs": [],
   "source": [
    "def greet():\n",
    "    print(\"hello\")"
   ]
  },
  {
   "cell_type": "code",
   "execution_count": 8,
   "id": "9b2b5e3f-5a6a-4ca1-b4a2-29be439b8544",
   "metadata": {},
   "outputs": [
    {
     "name": "stdout",
     "output_type": "stream",
     "text": [
      "hello\n"
     ]
    }
   ],
   "source": [
    "greet()"
   ]
  },
  {
   "cell_type": "code",
   "execution_count": null,
   "id": "6ae16806-3790-4e13-856c-81961602e215",
   "metadata": {},
   "outputs": [],
   "source": []
  }
 ],
 "metadata": {
  "kernelspec": {
   "display_name": "Python 3 (ipykernel)",
   "language": "python",
   "name": "python3"
  },
  "language_info": {
   "codemirror_mode": {
    "name": "ipython",
    "version": 3
   },
   "file_extension": ".py",
   "mimetype": "text/x-python",
   "name": "python",
   "nbconvert_exporter": "python",
   "pygments_lexer": "ipython3",
   "version": "3.12.7"
  }
 },
 "nbformat": 4,
 "nbformat_minor": 5
}
