{
 "cells": [
  {
   "cell_type": "code",
   "execution_count": 2,
   "id": "24b2afdd-506b-49bd-b0a5-d74ed636ea65",
   "metadata": {},
   "outputs": [
    {
     "name": "stdin",
     "output_type": "stream",
     "text": [
      "enter a:  23\n"
     ]
    }
   ],
   "source": [
    "a=input(\"enter a: \")"
   ]
  },
  {
   "cell_type": "code",
   "execution_count": 3,
   "id": "cf9df1d1-352e-4e0b-8074-270f901ae287",
   "metadata": {},
   "outputs": [
    {
     "name": "stdin",
     "output_type": "stream",
     "text": [
      "Enter b:  23\n"
     ]
    }
   ],
   "source": [
    "b=input(\"Enter b: \")"
   ]
  },
  {
   "cell_type": "code",
   "execution_count": 4,
   "id": "7281c3b5-0a81-4b27-98ea-a626841ebe9c",
   "metadata": {},
   "outputs": [
    {
     "data": {
      "text/plain": [
       "'2323'"
      ]
     },
     "execution_count": 4,
     "metadata": {},
     "output_type": "execute_result"
    }
   ],
   "source": [
    "a+b"
   ]
  },
  {
   "cell_type": "code",
   "execution_count": 5,
   "id": "6b60f6cb-d7c2-4b91-9fc9-98f605a9bdc2",
   "metadata": {},
   "outputs": [
    {
     "data": {
      "text/plain": [
       "46"
      ]
     },
     "execution_count": 5,
     "metadata": {},
     "output_type": "execute_result"
    }
   ],
   "source": [
    "int(a)+int(b)"
   ]
  },
  {
   "cell_type": "code",
   "execution_count": 6,
   "id": "6b2e96f7-3160-4094-8188-316b63d8f31e",
   "metadata": {},
   "outputs": [
    {
     "name": "stdin",
     "output_type": "stream",
     "text": [
      " 5\n"
     ]
    }
   ],
   "source": [
    "c=input()"
   ]
  },
  {
   "cell_type": "code",
   "execution_count": null,
   "id": "b7a3deab-aa3c-46df-9f0e-f6791b87968b",
   "metadata": {},
   "outputs": [],
   "source": []
  }
 ],
 "metadata": {
  "kernelspec": {
   "display_name": "Python 3 (ipykernel)",
   "language": "python",
   "name": "python3"
  },
  "language_info": {
   "codemirror_mode": {
    "name": "ipython",
    "version": 3
   },
   "file_extension": ".py",
   "mimetype": "text/x-python",
   "name": "python",
   "nbconvert_exporter": "python",
   "pygments_lexer": "ipython3",
   "version": "3.12.7"
  }
 },
 "nbformat": 4,
 "nbformat_minor": 5
}
