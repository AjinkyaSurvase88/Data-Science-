{
 "cells": [
  {
   "cell_type": "code",
   "execution_count": 7,
   "id": "c4513962-5003-4db1-84bd-191f1685bbf0",
   "metadata": {},
   "outputs": [],
   "source": [
    "f=open(\"text.txt\",\"r\")"
   ]
  },
  {
   "cell_type": "code",
   "execution_count": 8,
   "id": "0923dc8c-014c-44d7-9787-9afd06b99159",
   "metadata": {},
   "outputs": [
    {
     "data": {
      "text/plain": [
       "'Ajinkya\\nis good\\nboy'"
      ]
     },
     "execution_count": 8,
     "metadata": {},
     "output_type": "execute_result"
    }
   ],
   "source": [
    "f.read()"
   ]
  },
  {
   "cell_type": "code",
   "execution_count": 9,
   "id": "f115f898-0715-4bba-8f59-d86dd5d283d0",
   "metadata": {},
   "outputs": [],
   "source": [
    "s=\"this is nice way\""
   ]
  },
  {
   "cell_type": "code",
   "execution_count": 10,
   "id": "b68f9a66-9932-4162-8758-632f17233bed",
   "metadata": {},
   "outputs": [],
   "source": [
    "f.close()"
   ]
  },
  {
   "cell_type": "code",
   "execution_count": 12,
   "id": "850fb10a-78e8-4ab0-838a-c1e93912dc10",
   "metadata": {},
   "outputs": [],
   "source": [
    "f=open(\"Ajinkya.txt\",\"w\")"
   ]
  },
  {
   "cell_type": "code",
   "execution_count": 13,
   "id": "1ee7492e-8303-47e5-83a5-cc41539e44b1",
   "metadata": {},
   "outputs": [
    {
     "data": {
      "text/plain": [
       "16"
      ]
     },
     "execution_count": 13,
     "metadata": {},
     "output_type": "execute_result"
    }
   ],
   "source": [
    "f.write(s)"
   ]
  },
  {
   "cell_type": "code",
   "execution_count": 14,
   "id": "790ee00a-3bdb-4cf1-8863-1690e1d1b553",
   "metadata": {},
   "outputs": [],
   "source": [
    "f.close()"
   ]
  },
  {
   "cell_type": "code",
   "execution_count": 16,
   "id": "2406f222-91ce-4f90-adc3-7d15054a18d9",
   "metadata": {},
   "outputs": [
    {
     "name": "stdout",
     "output_type": "stream",
     "text": [
      "Ajinkya\n",
      "is good\n",
      "boy\n"
     ]
    }
   ],
   "source": [
    "with open(\"text.txt\",\"r\") as file:\n",
    "    content=file.read()\n",
    "    print(content)"
   ]
  },
  {
   "cell_type": "code",
   "execution_count": null,
   "id": "d03e0139-796c-4d91-a547-caa9ac7bcfc5",
   "metadata": {},
   "outputs": [],
   "source": [
    "# append method for updating the existing file"
   ]
  }
 ],
 "metadata": {
  "kernelspec": {
   "display_name": "Python 3 (ipykernel)",
   "language": "python",
   "name": "python3"
  },
  "language_info": {
   "codemirror_mode": {
    "name": "ipython",
    "version": 3
   },
   "file_extension": ".py",
   "mimetype": "text/x-python",
   "name": "python",
   "nbconvert_exporter": "python",
   "pygments_lexer": "ipython3",
   "version": "3.12.7"
  }
 },
 "nbformat": 4,
 "nbformat_minor": 5
}
