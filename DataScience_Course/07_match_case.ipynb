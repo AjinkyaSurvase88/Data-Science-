{
 "cells": [
  {
   "cell_type": "code",
   "execution_count": 1,
   "id": "64f9af8e-6f1a-41ec-b911-6855cfbfede4",
   "metadata": {},
   "outputs": [],
   "source": [
    "code =200\n"
   ]
  },
  {
   "cell_type": "code",
   "execution_count": 2,
   "id": "a2fffcee-abf7-4607-8ef0-397cf3a1cd2b",
   "metadata": {},
   "outputs": [
    {
     "name": "stdout",
     "output_type": "stream",
     "text": [
      "page found\n"
     ]
    }
   ],
   "source": [
    "match code :\n",
    "    case 200:\n",
    "        print(\"page found\")\n",
    "    case 404:\n",
    "        print(\"not found\")"
   ]
  },
  {
   "cell_type": "code",
   "execution_count": null,
   "id": "e4b04368-391c-444f-b8e0-868464a6124b",
   "metadata": {},
   "outputs": [],
   "source": []
  },
  {
   "cell_type": "code",
   "execution_count": null,
   "id": "1c5d6851-7b92-47b2-8e8e-0d714bd01dbc",
   "metadata": {},
   "outputs": [],
   "source": []
  },
  {
   "cell_type": "code",
   "execution_count": null,
   "id": "dfbf2af0-dd89-4767-a281-c5fd7d2a7c70",
   "metadata": {},
   "outputs": [],
   "source": []
  }
 ],
 "metadata": {
  "kernelspec": {
   "display_name": "Python 3 (ipykernel)",
   "language": "python",
   "name": "python3"
  },
  "language_info": {
   "codemirror_mode": {
    "name": "ipython",
    "version": 3
   },
   "file_extension": ".py",
   "mimetype": "text/x-python",
   "name": "python",
   "nbconvert_exporter": "python",
   "pygments_lexer": "ipython3",
   "version": "3.12.7"
  }
 },
 "nbformat": 4,
 "nbformat_minor": 5
}
