{
 "cells": [
  {
   "cell_type": "code",
   "execution_count": 2,
   "id": "3036d293-1944-487e-aeea-3c00afe06d31",
   "metadata": {},
   "outputs": [
    {
     "name": "stdout",
     "output_type": "stream",
     "text": [
      "my name is ajinkya\n"
     ]
    }
   ],
   "source": [
    "s=\"ajinkya\"\n",
    "print(f\"my name is {s}\")"
   ]
  },
  {
   "cell_type": "code",
   "execution_count": null,
   "id": "c356f603-2ec0-455f-bf32-2873f7a26660",
   "metadata": {},
   "outputs": [],
   "source": [
    "print(f\"{'python':<10)\"))  #leftalign\n",
    "print(f\"{'python':<10)\"))  #leftalign\n",
    "print(f\"{'python':<10)\"))  #leftalign"
   ]
  }
 ],
 "metadata": {
  "kernelspec": {
   "display_name": "Python 3 (ipykernel)",
   "language": "python",
   "name": "python3"
  },
  "language_info": {
   "codemirror_mode": {
    "name": "ipython",
    "version": 3
   },
   "file_extension": ".py",
   "mimetype": "text/x-python",
   "name": "python",
   "nbconvert_exporter": "python",
   "pygments_lexer": "ipython3",
   "version": "3.12.7"
  }
 },
 "nbformat": 4,
 "nbformat_minor": 5
}
