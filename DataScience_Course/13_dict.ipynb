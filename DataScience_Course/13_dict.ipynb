{
 "cells": [
  {
   "cell_type": "code",
   "execution_count": 1,
   "id": "2891f3e0-dbbf-48ee-96a5-44a8b1857a46",
   "metadata": {},
   "outputs": [],
   "source": [
    "dic=[]"
   ]
  },
  {
   "cell_type": "code",
   "execution_count": 2,
   "id": "1e59a2c2-47a5-4f83-a1c6-3e0fbbaac30e",
   "metadata": {},
   "outputs": [
    {
     "data": {
      "text/plain": [
       "list"
      ]
     },
     "execution_count": 2,
     "metadata": {},
     "output_type": "execute_result"
    }
   ],
   "source": [
    "type(dic)"
   ]
  },
  {
   "cell_type": "code",
   "execution_count": 3,
   "id": "6e634b5d-a4b5-4601-b5be-c2434ca70215",
   "metadata": {},
   "outputs": [],
   "source": [
    "d={\n",
    "    \"name\":\"Ajinkya\",\n",
    "    \"roll_no\":74\n",
    "}"
   ]
  },
  {
   "cell_type": "code",
   "execution_count": 4,
   "id": "1ff1813e-3bfa-499c-9883-04fc0e2f8258",
   "metadata": {},
   "outputs": [
    {
     "data": {
      "text/plain": [
       "'Ajinkya'"
      ]
     },
     "execution_count": 4,
     "metadata": {},
     "output_type": "execute_result"
    }
   ],
   "source": [
    "d[\"name\"]"
   ]
  },
  {
   "cell_type": "code",
   "execution_count": 12,
   "id": "2630e64e-b2fe-43c9-a07f-d80be717fd1f",
   "metadata": {},
   "outputs": [],
   "source": [
    "r=d.get(\"name\")"
   ]
  },
  {
   "cell_type": "code",
   "execution_count": 13,
   "id": "81acee61-894f-4e72-a4b4-37466d38f193",
   "metadata": {},
   "outputs": [
    {
     "data": {
      "text/plain": [
       "'Ajinkya'"
      ]
     },
     "execution_count": 13,
     "metadata": {},
     "output_type": "execute_result"
    }
   ],
   "source": [
    "r"
   ]
  },
  {
   "cell_type": "code",
   "execution_count": 7,
   "id": "91a3c70d-dc47-470b-bf62-b9cb55650bdd",
   "metadata": {},
   "outputs": [
    {
     "ename": "KeyError",
     "evalue": "'roll'",
     "output_type": "error",
     "traceback": [
      "\u001b[1;31m---------------------------------------------------------------------------\u001b[0m",
      "\u001b[1;31mKeyError\u001b[0m                                  Traceback (most recent call last)",
      "Cell \u001b[1;32mIn[7], line 1\u001b[0m\n\u001b[1;32m----> 1\u001b[0m \u001b[43md\u001b[49m\u001b[43m[\u001b[49m\u001b[38;5;124;43m\"\u001b[39;49m\u001b[38;5;124;43mroll\u001b[39;49m\u001b[38;5;124;43m\"\u001b[39;49m\u001b[43m]\u001b[49m\n",
      "\u001b[1;31mKeyError\u001b[0m: 'roll'"
     ]
    }
   ],
   "source": [
    "d[\"roll\"]"
   ]
  },
  {
   "cell_type": "code",
   "execution_count": 8,
   "id": "7408155a-5a87-4a3b-9ac9-fea66d864ba6",
   "metadata": {},
   "outputs": [
    {
     "data": {
      "text/plain": [
       "{'name': 'Ajinkya', 'roll_no': 74}"
      ]
     },
     "execution_count": 8,
     "metadata": {},
     "output_type": "execute_result"
    }
   ],
   "source": [
    "d"
   ]
  },
  {
   "cell_type": "code",
   "execution_count": 11,
   "id": "7086ea1a-616a-4406-89c6-67491791a095",
   "metadata": {},
   "outputs": [
    {
     "name": "stdout",
     "output_type": "stream",
     "text": [
      "Ajinkya\n"
     ]
    }
   ],
   "source": [
    "print(d[\"name\"])"
   ]
  },
  {
   "cell_type": "code",
   "execution_count": 14,
   "id": "fb442639-9f2f-453c-b750-5af14ba9b15a",
   "metadata": {},
   "outputs": [],
   "source": [
    "d[\"name\"]=\"Survase\""
   ]
  },
  {
   "cell_type": "code",
   "execution_count": 28,
   "id": "74800e5d-abd7-44f6-9b0b-d20a6bb2200a",
   "metadata": {},
   "outputs": [
    {
     "data": {
      "text/plain": [
       "{'name': 'Survase', 'roll_no': 74, 'age': 21, 'age_2': 22}"
      ]
     },
     "execution_count": 28,
     "metadata": {},
     "output_type": "execute_result"
    }
   ],
   "source": [
    "d"
   ]
  },
  {
   "cell_type": "code",
   "execution_count": 18,
   "id": "b531008b-730e-4133-b131-073951483db9",
   "metadata": {},
   "outputs": [
    {
     "data": {
      "text/plain": [
       "dict_keys(['name', 'roll_no'])"
      ]
     },
     "execution_count": 18,
     "metadata": {},
     "output_type": "execute_result"
    }
   ],
   "source": [
    "d.keys()"
   ]
  },
  {
   "cell_type": "code",
   "execution_count": 19,
   "id": "b4e6e05e-b373-4463-90b2-55658e3b037a",
   "metadata": {},
   "outputs": [
    {
     "data": {
      "text/plain": [
       "dict_values(['Survase', 74])"
      ]
     },
     "execution_count": 19,
     "metadata": {},
     "output_type": "execute_result"
    }
   ],
   "source": [
    "d.values()\n"
   ]
  },
  {
   "cell_type": "code",
   "execution_count": 20,
   "id": "65e7bffd-5453-4bc4-ba66-6e1d4faff953",
   "metadata": {},
   "outputs": [
    {
     "data": {
      "text/plain": [
       "dict_items([('name', 'Survase'), ('roll_no', 74)])"
      ]
     },
     "execution_count": 20,
     "metadata": {},
     "output_type": "execute_result"
    }
   ],
   "source": [
    "d.items()"
   ]
  },
  {
   "cell_type": "code",
   "execution_count": 21,
   "id": "a66328cf-8954-4aec-80c3-25bfdd01c4f3",
   "metadata": {},
   "outputs": [],
   "source": [
    "d2={\n",
    "    \"age\":21\n",
    "}"
   ]
  },
  {
   "cell_type": "code",
   "execution_count": 31,
   "id": "a4f27b92-dd51-498f-af8a-555e711bea21",
   "metadata": {},
   "outputs": [],
   "source": [
    "d.update({\"age_2\":22})"
   ]
  },
  {
   "cell_type": "code",
   "execution_count": 32,
   "id": "22857eb3-59df-4b6d-b2c4-a07e0333a0d9",
   "metadata": {},
   "outputs": [
    {
     "name": "stdout",
     "output_type": "stream",
     "text": [
      "{'name': 'Survase', 'roll_no': 74, 'age': 21, 'age_2': 22}\n"
     ]
    }
   ],
   "source": [
    "print(d)"
   ]
  },
  {
   "cell_type": "code",
   "execution_count": 37,
   "id": "e6046f14-0bec-44ed-82e4-5b11393b3e91",
   "metadata": {},
   "outputs": [
    {
     "data": {
      "text/plain": [
       "'Survase'"
      ]
     },
     "execution_count": 37,
     "metadata": {},
     "output_type": "execute_result"
    }
   ],
   "source": [
    "d.pop(\"name\")"
   ]
  },
  {
   "cell_type": "code",
   "execution_count": 38,
   "id": "100cdbb1-1df8-4c36-b944-bf1004f2c0c7",
   "metadata": {},
   "outputs": [
    {
     "data": {
      "text/plain": [
       "{'roll_no': 74, 'age': 21, 'age_2': 22}"
      ]
     },
     "execution_count": 38,
     "metadata": {},
     "output_type": "execute_result"
    }
   ],
   "source": [
    "d"
   ]
  },
  {
   "cell_type": "code",
   "execution_count": 40,
   "id": "87749ff7-86c4-4c43-bf14-c728e7e7b0ad",
   "metadata": {},
   "outputs": [
    {
     "data": {
      "text/plain": [
       "('age_2', 22)"
      ]
     },
     "execution_count": 40,
     "metadata": {},
     "output_type": "execute_result"
    }
   ],
   "source": [
    "d.popitem() #remove last ele"
   ]
  },
  {
   "cell_type": "code",
   "execution_count": 41,
   "id": "7b797b5f-e722-467f-9a14-9607db4d2ac2",
   "metadata": {},
   "outputs": [
    {
     "data": {
      "text/plain": [
       "{'roll_no': 74, 'age': 21}"
      ]
     },
     "execution_count": 41,
     "metadata": {},
     "output_type": "execute_result"
    }
   ],
   "source": [
    "d"
   ]
  },
  {
   "cell_type": "code",
   "execution_count": 53,
   "id": "445ad274-a0b4-4d22-affc-2dabe076d09c",
   "metadata": {},
   "outputs": [
    {
     "data": {
      "text/plain": [
       "56"
      ]
     },
     "execution_count": 53,
     "metadata": {},
     "output_type": "execute_result"
    }
   ],
   "source": [
    "d.setdefault(\"roll_no\",56)"
   ]
  },
  {
   "cell_type": "code",
   "execution_count": 54,
   "id": "ab99f98d-ae95-486c-8692-e142a5dc5979",
   "metadata": {},
   "outputs": [
    {
     "data": {
      "text/plain": [
       "{'roll_no': 56}"
      ]
     },
     "execution_count": 54,
     "metadata": {},
     "output_type": "execute_result"
    }
   ],
   "source": [
    "d"
   ]
  },
  {
   "cell_type": "code",
   "execution_count": 55,
   "id": "a36da024-02c0-4875-99ee-d536fdcc7589",
   "metadata": {},
   "outputs": [
    {
     "ename": "KeyError",
     "evalue": "'age'",
     "output_type": "error",
     "traceback": [
      "\u001b[1;31m---------------------------------------------------------------------------\u001b[0m",
      "\u001b[1;31mKeyError\u001b[0m                                  Traceback (most recent call last)",
      "Cell \u001b[1;32mIn[55], line 1\u001b[0m\n\u001b[1;32m----> 1\u001b[0m \u001b[43md\u001b[49m\u001b[43m[\u001b[49m\u001b[38;5;124;43m\"\u001b[39;49m\u001b[38;5;124;43mage\u001b[39;49m\u001b[38;5;124;43m\"\u001b[39;49m\u001b[43m]\u001b[49m\n",
      "\u001b[1;31mKeyError\u001b[0m: 'age'"
     ]
    }
   ],
   "source": [
    "d[\"age\"]"
   ]
  },
  {
   "cell_type": "code",
   "execution_count": 49,
   "id": "fec94008-5faa-45c5-80ae-257fc9f1b27d",
   "metadata": {},
   "outputs": [],
   "source": [
    "d.clear()"
   ]
  },
  {
   "cell_type": "code",
   "execution_count": 50,
   "id": "e242b0c8-a117-4fd7-b7b2-9544a9b69d56",
   "metadata": {},
   "outputs": [
    {
     "data": {
      "text/plain": [
       "{}"
      ]
     },
     "execution_count": 50,
     "metadata": {},
     "output_type": "execute_result"
    }
   ],
   "source": [
    "d"
   ]
  },
  {
   "cell_type": "code",
   "execution_count": 51,
   "id": "4641193b-62d2-4316-be4c-f044e0543206",
   "metadata": {},
   "outputs": [],
   "source": [
    "d1=d.copy()"
   ]
  },
  {
   "cell_type": "code",
   "execution_count": 52,
   "id": "ca148877-1ad7-44ab-a73b-1bd663bde3af",
   "metadata": {},
   "outputs": [
    {
     "data": {
      "text/plain": [
       "{}"
      ]
     },
     "execution_count": 52,
     "metadata": {},
     "output_type": "execute_result"
    }
   ],
   "source": [
    "d1"
   ]
  },
  {
   "cell_type": "code",
   "execution_count": null,
   "id": "bd0333ab-5fe4-4b1c-8e90-4b9fe4ab9a58",
   "metadata": {},
   "outputs": [],
   "source": []
  }
 ],
 "metadata": {
  "kernelspec": {
   "display_name": "Python 3 (ipykernel)",
   "language": "python",
   "name": "python3"
  },
  "language_info": {
   "codemirror_mode": {
    "name": "ipython",
    "version": 3
   },
   "file_extension": ".py",
   "mimetype": "text/x-python",
   "name": "python",
   "nbconvert_exporter": "python",
   "pygments_lexer": "ipython3",
   "version": "3.12.7"
  }
 },
 "nbformat": 4,
 "nbformat_minor": 5
}
