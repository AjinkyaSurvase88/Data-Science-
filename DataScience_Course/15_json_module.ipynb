{
 "cells": [
  {
   "cell_type": "code",
   "execution_count": 1,
   "id": "f0a6336e-58ac-4c1e-90f4-32d97ab298e9",
   "metadata": {},
   "outputs": [],
   "source": [
    "import json"
   ]
  },
  {
   "cell_type": "code",
   "execution_count": 13,
   "id": "4e36589c-29af-4859-a23e-9a6104057617",
   "metadata": {},
   "outputs": [
    {
     "name": "stdout",
     "output_type": "stream",
     "text": [
      "{\"name\": \"Ajinkya\"}\n"
     ]
    }
   ],
   "source": [
    "obj={\"name\":\"Ajinkya\"}\n",
    "s=json.dumps(obj)\n",
    "type(s)\n",
    "print(s)"
   ]
  },
  {
   "cell_type": "code",
   "execution_count": 3,
   "id": "ca6b75e7-4ab4-40f2-893b-77bd653d564a",
   "metadata": {},
   "outputs": [
    {
     "data": {
      "text/plain": [
       "'{\"name\": \"Ajinkya\"}'"
      ]
     },
     "execution_count": 3,
     "metadata": {},
     "output_type": "execute_result"
    }
   ],
   "source": [
    "s"
   ]
  },
  {
   "cell_type": "code",
   "execution_count": 4,
   "id": "ff79c3d2-1dee-4fb2-9aa9-0e64e189d729",
   "metadata": {},
   "outputs": [],
   "source": [
    "d=json.loads('{\"name\":\"Ajinkya\"}')"
   ]
  },
  {
   "cell_type": "code",
   "execution_count": 5,
   "id": "e4b6ee64-2bb9-4ff6-bf3e-3c8aeca1e8e7",
   "metadata": {},
   "outputs": [
    {
     "data": {
      "text/plain": [
       "dict"
      ]
     },
     "execution_count": 5,
     "metadata": {},
     "output_type": "execute_result"
    }
   ],
   "source": [
    "type(d)"
   ]
  },
  {
   "cell_type": "code",
   "execution_count": 14,
   "id": "0da701f9-2338-4ce8-a201-f8bf197f2198",
   "metadata": {},
   "outputs": [],
   "source": [
    "file = open(\"d.json\",\"w\")\n"
   ]
  },
  {
   "cell_type": "code",
   "execution_count": 16,
   "id": "0fff73cb-3a22-40c0-819a-daa93d2cea01",
   "metadata": {},
   "outputs": [],
   "source": [
    "json.dump(obj,file)"
   ]
  },
  {
   "cell_type": "code",
   "execution_count": 17,
   "id": "46afb4a4-3866-421c-a3e1-97fa2fde9f56",
   "metadata": {},
   "outputs": [
    {
     "data": {
      "text/plain": [
       "{'name': 'Ajinkya'}"
      ]
     },
     "execution_count": 17,
     "metadata": {},
     "output_type": "execute_result"
    }
   ],
   "source": [
    "d"
   ]
  },
  {
   "cell_type": "code",
   "execution_count": 36,
   "id": "b2717a2b-56f2-4482-806f-649c5a195573",
   "metadata": {},
   "outputs": [],
   "source": [
    "import json\n",
    "\n",
    "data1 = {\"name\": \"Ajinkya\", \"age\": 22, \"skills\": [\"Python\", \"AI\", \"Cloud\"]}\n",
    "\n",
    "with open(\"data1.json\", \"w\") as f:\n",
    "    json.dump(data1, f)\n"
   ]
  },
  {
   "cell_type": "code",
   "execution_count": null,
   "id": "13051596-91e0-4733-b935-6728d1708c8e",
   "metadata": {},
   "outputs": [],
   "source": []
  },
  {
   "cell_type": "code",
   "execution_count": null,
   "id": "e6e2ef77-b677-4a98-b386-f41ea66fc5e8",
   "metadata": {},
   "outputs": [],
   "source": []
  },
  {
   "cell_type": "code",
   "execution_count": null,
   "id": "2230460a-65cc-4086-b3c3-9f50b5b87472",
   "metadata": {},
   "outputs": [],
   "source": []
  }
 ],
 "metadata": {
  "kernelspec": {
   "display_name": "Python 3 (ipykernel)",
   "language": "python",
   "name": "python3"
  },
  "language_info": {
   "codemirror_mode": {
    "name": "ipython",
    "version": 3
   },
   "file_extension": ".py",
   "mimetype": "text/x-python",
   "name": "python",
   "nbconvert_exporter": "python",
   "pygments_lexer": "ipython3",
   "version": "3.12.7"
  }
 },
 "nbformat": 4,
 "nbformat_minor": 5
}
