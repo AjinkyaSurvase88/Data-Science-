{
 "cells": [
  {
   "cell_type": "code",
   "execution_count": 1,
   "id": "6fa6941f-3e0a-4df1-be8e-2c44ff8d132f",
   "metadata": {},
   "outputs": [],
   "source": [
    "e=()"
   ]
  },
  {
   "cell_type": "code",
   "execution_count": 2,
   "id": "dcc57b8b-34f5-497e-a205-ebf559ba413f",
   "metadata": {},
   "outputs": [
    {
     "data": {
      "text/plain": [
       "tuple"
      ]
     },
     "execution_count": 2,
     "metadata": {},
     "output_type": "execute_result"
    }
   ],
   "source": [
    "type(e)"
   ]
  },
  {
   "cell_type": "code",
   "execution_count": 4,
   "id": "40192d27-7311-4936-a8ea-f2b28b737267",
   "metadata": {},
   "outputs": [],
   "source": [
    "t=(4,596,7,4,3,6)"
   ]
  },
  {
   "cell_type": "code",
   "execution_count": 5,
   "id": "2bf8068d-83d4-4cd7-8f36-7785a31e65ac",
   "metadata": {},
   "outputs": [
    {
     "data": {
      "text/plain": [
       "(4, 596, 7, 4, 3, 6)"
      ]
     },
     "execution_count": 5,
     "metadata": {},
     "output_type": "execute_result"
    }
   ],
   "source": [
    "t"
   ]
  },
  {
   "cell_type": "code",
   "execution_count": 6,
   "id": "da14a954-a3ad-4b09-997e-ac41fd8a0d56",
   "metadata": {},
   "outputs": [
    {
     "data": {
      "text/plain": [
       "6"
      ]
     },
     "execution_count": 6,
     "metadata": {},
     "output_type": "execute_result"
    }
   ],
   "source": [
    "len(t)"
   ]
  },
  {
   "cell_type": "code",
   "execution_count": 7,
   "id": "3718fb8a-a92a-4d35-b87a-c3b9a3983e98",
   "metadata": {},
   "outputs": [
    {
     "data": {
      "text/plain": [
       "596"
      ]
     },
     "execution_count": 7,
     "metadata": {},
     "output_type": "execute_result"
    }
   ],
   "source": [
    "t[1]"
   ]
  },
  {
   "cell_type": "code",
   "execution_count": 8,
   "id": "670b7b04-720f-4632-b792-d3e1b5458c9c",
   "metadata": {},
   "outputs": [
    {
     "ename": "TypeError",
     "evalue": "'tuple' object does not support item assignment",
     "output_type": "error",
     "traceback": [
      "\u001b[1;31m---------------------------------------------------------------------------\u001b[0m",
      "\u001b[1;31mTypeError\u001b[0m                                 Traceback (most recent call last)",
      "Cell \u001b[1;32mIn[8], line 1\u001b[0m\n\u001b[1;32m----> 1\u001b[0m \u001b[43mt\u001b[49m\u001b[43m[\u001b[49m\u001b[38;5;241;43m1\u001b[39;49m\u001b[43m]\u001b[49m\u001b[38;5;241m=\u001b[39m\u001b[38;5;241m34\u001b[39m\n",
      "\u001b[1;31mTypeError\u001b[0m: 'tuple' object does not support item assignment"
     ]
    }
   ],
   "source": [
    "t[1]=34  #immutable"
   ]
  },
  {
   "cell_type": "code",
   "execution_count": 9,
   "id": "37c80a73-e60e-4748-ac97-889d62c85139",
   "metadata": {},
   "outputs": [],
   "source": [
    "person=(\"alice\",25,\"engineer\")  #packing"
   ]
  },
  {
   "cell_type": "code",
   "execution_count": 10,
   "id": "0b5fa015-8b57-452c-8b4d-54fcd2509a20",
   "metadata": {},
   "outputs": [],
   "source": [
    "name,age,profession=person  #unpaking"
   ]
  },
  {
   "cell_type": "code",
   "execution_count": 11,
   "id": "111a0415-622c-4876-b556-9fd9ff472ea4",
   "metadata": {},
   "outputs": [
    {
     "data": {
      "text/plain": [
       "'alice'"
      ]
     },
     "execution_count": 11,
     "metadata": {},
     "output_type": "execute_result"
    }
   ],
   "source": [
    "name"
   ]
  },
  {
   "cell_type": "code",
   "execution_count": 12,
   "id": "2506da99-13ce-4a86-9415-57112803e645",
   "metadata": {},
   "outputs": [
    {
     "data": {
      "text/plain": [
       "25"
      ]
     },
     "execution_count": 12,
     "metadata": {},
     "output_type": "execute_result"
    }
   ],
   "source": [
    "age"
   ]
  },
  {
   "cell_type": "code",
   "execution_count": 13,
   "id": "aa2872ed-66c0-4bb3-94c8-38e232a89c1b",
   "metadata": {},
   "outputs": [
    {
     "data": {
      "text/plain": [
       "'engineer'"
      ]
     },
     "execution_count": 13,
     "metadata": {},
     "output_type": "execute_result"
    }
   ],
   "source": [
    "profession"
   ]
  },
  {
   "cell_type": "code",
   "execution_count": 14,
   "id": "ccfca09d-046d-4d12-ae44-bd3d21a20fa2",
   "metadata": {},
   "outputs": [
    {
     "data": {
      "text/plain": [
       "('alice', 25, 'engineer')"
      ]
     },
     "execution_count": 14,
     "metadata": {},
     "output_type": "execute_result"
    }
   ],
   "source": [
    "person"
   ]
  },
  {
   "cell_type": "code",
   "execution_count": null,
   "id": "21cca27b-6f3d-467f-8f38-04bbcb85483f",
   "metadata": {},
   "outputs": [],
   "source": []
  }
 ],
 "metadata": {
  "kernelspec": {
   "display_name": "Python 3 (ipykernel)",
   "language": "python",
   "name": "python3"
  },
  "language_info": {
   "codemirror_mode": {
    "name": "ipython",
    "version": 3
   },
   "file_extension": ".py",
   "mimetype": "text/x-python",
   "name": "python",
   "nbconvert_exporter": "python",
   "pygments_lexer": "ipython3",
   "version": "3.12.7"
  }
 },
 "nbformat": 4,
 "nbformat_minor": 5
}
