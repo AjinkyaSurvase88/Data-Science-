{
 "cells": [
  {
   "cell_type": "code",
   "execution_count": 4,
   "id": "7398d799-6022-42e3-bf10-ef213dc7f6c7",
   "metadata": {},
   "outputs": [],
   "source": [
    "import numpy as np\n",
    "arr = np.array([[1,2,3],[4,5,6],[6,7,8],[11,12,13]])"
   ]
  },
  {
   "cell_type": "code",
   "execution_count": 5,
   "id": "418e0962-896b-4c51-ab04-cecb898b3e75",
   "metadata": {},
   "outputs": [
    {
     "data": {
      "text/plain": [
       "array([[ 1,  2,  3],\n",
       "       [ 4,  5,  6],\n",
       "       [ 6,  7,  8],\n",
       "       [11, 12, 13]])"
      ]
     },
     "execution_count": 5,
     "metadata": {},
     "output_type": "execute_result"
    }
   ],
   "source": [
    "arr"
   ]
  },
  {
   "cell_type": "code",
   "execution_count": 6,
   "id": "eef28aeb-d6e8-4db5-9591-b1c49f66e24f",
   "metadata": {},
   "outputs": [],
   "source": [
    "flat=arr.flatten()"
   ]
  },
  {
   "cell_type": "code",
   "execution_count": 7,
   "id": "2aeed20a-9dd1-4e7c-9209-cad3506e787a",
   "metadata": {},
   "outputs": [
    {
     "data": {
      "text/plain": [
       "array([ 1,  2,  3,  4,  5,  6,  6,  7,  8, 11, 12, 13])"
      ]
     },
     "execution_count": 7,
     "metadata": {},
     "output_type": "execute_result"
    }
   ],
   "source": [
    "flat"
   ]
  },
  {
   "cell_type": "code",
   "execution_count": 8,
   "id": "c68cb323-c0ff-4109-891c-cba8dcd2b0bc",
   "metadata": {},
   "outputs": [
    {
     "data": {
      "text/plain": [
       "1"
      ]
     },
     "execution_count": 8,
     "metadata": {},
     "output_type": "execute_result"
    }
   ],
   "source": [
    "flat[0]"
   ]
  },
  {
   "cell_type": "code",
   "execution_count": 9,
   "id": "58fc7304-6663-4069-b04e-b23371c0a515",
   "metadata": {},
   "outputs": [
    {
     "data": {
      "text/plain": [
       "4"
      ]
     },
     "execution_count": 9,
     "metadata": {},
     "output_type": "execute_result"
    }
   ],
   "source": [
    "flat[3]"
   ]
  },
  {
   "cell_type": "code",
   "execution_count": 11,
   "id": "c9d2b2c5-b70a-420b-b49c-7e03d1e5b378",
   "metadata": {},
   "outputs": [
    {
     "data": {
      "text/plain": [
       "array([4, 5])"
      ]
     },
     "execution_count": 11,
     "metadata": {},
     "output_type": "execute_result"
    }
   ],
   "source": [
    "flat[3:5]"
   ]
  },
  {
   "cell_type": "code",
   "execution_count": 12,
   "id": "79c3675f-03a6-4c4f-8872-2108d01f406c",
   "metadata": {},
   "outputs": [
    {
     "data": {
      "text/plain": [
       "array([1, 2, 3, 4, 5])"
      ]
     },
     "execution_count": 12,
     "metadata": {},
     "output_type": "execute_result"
    }
   ],
   "source": [
    "flat[:5] #same as flat[0:5]"
   ]
  },
  {
   "cell_type": "code",
   "execution_count": 13,
   "id": "be5e2827-f184-441d-8720-a8a2a3d7f8a7",
   "metadata": {},
   "outputs": [
    {
     "data": {
      "text/plain": [
       "array([ 4,  5,  6,  6,  7,  8, 11, 12, 13])"
      ]
     },
     "execution_count": 13,
     "metadata": {},
     "output_type": "execute_result"
    }
   ],
   "source": [
    "flat[3:] #same as flat[3:length(arr)]"
   ]
  },
  {
   "cell_type": "code",
   "execution_count": 14,
   "id": "6c543554-9137-4e9b-bac9-b4dda84b8e90",
   "metadata": {},
   "outputs": [
    {
     "data": {
      "text/plain": [
       "array([ 1,  3,  5,  6,  8, 12])"
      ]
     },
     "execution_count": 14,
     "metadata": {},
     "output_type": "execute_result"
    }
   ],
   "source": [
    "flat[::2]"
   ]
  },
  {
   "cell_type": "code",
   "execution_count": 15,
   "id": "5b629fc3-efa6-493a-8d30-7ce4f4e92ad6",
   "metadata": {},
   "outputs": [
    {
     "data": {
      "text/plain": [
       "array([ 1,  2,  3,  4,  5,  6,  6,  7,  8, 11, 12, 13])"
      ]
     },
     "execution_count": 15,
     "metadata": {},
     "output_type": "execute_result"
    }
   ],
   "source": [
    "flat"
   ]
  },
  {
   "cell_type": "code",
   "execution_count": 16,
   "id": "6c5cd81e-3eb4-4179-a5f6-3f2ca3871427",
   "metadata": {},
   "outputs": [],
   "source": [
    "b = flat[3:7]"
   ]
  },
  {
   "cell_type": "code",
   "execution_count": 17,
   "id": "fd196071-f2f2-4967-a429-32b2b64cabd5",
   "metadata": {},
   "outputs": [
    {
     "data": {
      "text/plain": [
       "array([4, 5, 6, 6])"
      ]
     },
     "execution_count": 17,
     "metadata": {},
     "output_type": "execute_result"
    }
   ],
   "source": [
    "b"
   ]
  },
  {
   "cell_type": "code",
   "execution_count": 18,
   "id": "9760d2ba-c7b5-41e5-beab-699642318a09",
   "metadata": {},
   "outputs": [],
   "source": [
    "b[0] = 4444"
   ]
  },
  {
   "cell_type": "code",
   "execution_count": 19,
   "id": "6223a4c6-3842-494f-970d-656011b27f69",
   "metadata": {},
   "outputs": [
    {
     "data": {
      "text/plain": [
       "array([4444,    5,    6,    6])"
      ]
     },
     "execution_count": 19,
     "metadata": {},
     "output_type": "execute_result"
    }
   ],
   "source": [
    "b"
   ]
  },
  {
   "cell_type": "code",
   "execution_count": 20,
   "id": "ac70a178-10ad-4c85-bfe1-e2a4f55a2548",
   "metadata": {},
   "outputs": [
    {
     "data": {
      "text/plain": [
       "array([   1,    2,    3, 4444,    5,    6,    6,    7,    8,   11,   12,\n",
       "         13])"
      ]
     },
     "execution_count": 20,
     "metadata": {},
     "output_type": "execute_result"
    }
   ],
   "source": [
    "flat"
   ]
  },
  {
   "cell_type": "code",
   "execution_count": 21,
   "id": "adffae2b-1746-4e6e-a9aa-1817cfae125b",
   "metadata": {},
   "outputs": [],
   "source": [
    "arr = np.array([1,23,43,34,5,56,234,43])"
   ]
  },
  {
   "cell_type": "code",
   "execution_count": 23,
   "id": "926a4bf5-5f36-4078-a5e7-4720d7ebacfa",
   "metadata": {},
   "outputs": [
    {
     "data": {
      "text/plain": [
       "array([ 23,   5, 234])"
      ]
     },
     "execution_count": 23,
     "metadata": {},
     "output_type": "execute_result"
    }
   ],
   "source": [
    "arr[[1,4,6]] # new array of mentioned indices"
   ]
  },
  {
   "cell_type": "code",
   "execution_count": 25,
   "id": "5cdc8f68-fd2a-40d7-8661-2441100546e6",
   "metadata": {},
   "outputs": [
    {
     "data": {
      "text/plain": [
       "array([ 43,  34,  56, 234,  43])"
      ]
     },
     "execution_count": 25,
     "metadata": {},
     "output_type": "execute_result"
    }
   ],
   "source": [
    "arr[arr>23] #boolean masking"
   ]
  },
  {
   "cell_type": "code",
   "execution_count": 27,
   "id": "3f7ef9ed-38ff-4622-8e95-4ad509a5aaf6",
   "metadata": {},
   "outputs": [],
   "source": [
    "arr=np.array([[2,3,4],[4,5,6],[7,8,9]])"
   ]
  },
  {
   "cell_type": "code",
   "execution_count": 28,
   "id": "4788a49e-4541-44fa-b450-a88233951519",
   "metadata": {},
   "outputs": [
    {
     "data": {
      "text/plain": [
       "array([[2, 3, 4],\n",
       "       [4, 5, 6],\n",
       "       [7, 8, 9]])"
      ]
     },
     "execution_count": 28,
     "metadata": {},
     "output_type": "execute_result"
    }
   ],
   "source": [
    "arr"
   ]
  },
  {
   "cell_type": "code",
   "execution_count": 29,
   "id": "3c8138de-d052-4a05-ad27-ff2dceacd4a8",
   "metadata": {},
   "outputs": [
    {
     "data": {
      "text/plain": [
       "(3, 3)"
      ]
     },
     "execution_count": 29,
     "metadata": {},
     "output_type": "execute_result"
    }
   ],
   "source": [
    "arr.shape"
   ]
  },
  {
   "cell_type": "code",
   "execution_count": 30,
   "id": "a3fc8679-866b-4226-9195-7163a603a7f8",
   "metadata": {},
   "outputs": [],
   "source": [
    "deci=np.array([1.1,2.2,3.3])"
   ]
  },
  {
   "cell_type": "code",
   "execution_count": 31,
   "id": "6b6300b7-c4b8-4b87-bebc-76a32f71e434",
   "metadata": {},
   "outputs": [
    {
     "data": {
      "text/plain": [
       "array([1, 2, 3])"
      ]
     },
     "execution_count": 31,
     "metadata": {},
     "output_type": "execute_result"
    }
   ],
   "source": [
    "deci.astype('int32')"
   ]
  },
  {
   "cell_type": "code",
   "execution_count": 37,
   "id": "6ee444f3-5dc1-4a72-8425-ce1e8cc97b53",
   "metadata": {},
   "outputs": [],
   "source": [
    "arr=np.array([1,2,3,4,5,6])"
   ]
  },
  {
   "cell_type": "code",
   "execution_count": 43,
   "id": "44803fab-3355-411c-a3c6-61d0bd97a1f2",
   "metadata": {},
   "outputs": [],
   "source": [
    "inx=[1,3,5]"
   ]
  },
  {
   "cell_type": "code",
   "execution_count": 44,
   "id": "124e8ac9-c48e-464d-9db3-32c34abba5e4",
   "metadata": {},
   "outputs": [
    {
     "name": "stdout",
     "output_type": "stream",
     "text": [
      "[2 4 6]\n"
     ]
    }
   ],
   "source": [
    "print(arr[inx])"
   ]
  },
  {
   "cell_type": "code",
   "execution_count": 45,
   "id": "2dd44055-a8ea-4f74-89f8-3565e6437dd7",
   "metadata": {},
   "outputs": [],
   "source": [
    "arr1=np.array([2,3,45,6,32,23,45,532,12])"
   ]
  },
  {
   "cell_type": "code",
   "execution_count": null,
   "id": "028b9384-53fd-461f-82ba-ceceda82fe11",
   "metadata": {},
   "outputs": [],
   "source": [
    "arr1."
   ]
  }
 ],
 "metadata": {
  "kernelspec": {
   "display_name": "Python 3 (ipykernel)",
   "language": "python",
   "name": "python3"
  },
  "language_info": {
   "codemirror_mode": {
    "name": "ipython",
    "version": 3
   },
   "file_extension": ".py",
   "mimetype": "text/x-python",
   "name": "python",
   "nbconvert_exporter": "python",
   "pygments_lexer": "ipython3",
   "version": "3.12.7"
  }
 },
 "nbformat": 4,
 "nbformat_minor": 5
}
