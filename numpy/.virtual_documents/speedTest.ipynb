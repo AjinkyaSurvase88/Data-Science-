#using python list
import numpy as np
import time

size=1_000_000_0

l1 = list(range(size))
l2 = list(range(size))

start=time.time()
add = [x+y for x,y in zip(l1,l2)]
end=time.time()
print(add[0:10])

print(end-start)


#using numpy arrays
import numpy as np
import time

size=1_000_000_0

l1 = np.array(list(range(size)))
l2 = np.array(list(range(size)))

start=time.time()
add = l1+l2
end=time.time()
print(add[0:10])

print(end-start)


l1 = [1,2,4]


l2 = [6,7,8]


list(zip(l1,l2))


np.array([1,2,3,4,5])


arr=np.array([[1,2,3],[4,5,6]])


type(arr)


arr.shape



