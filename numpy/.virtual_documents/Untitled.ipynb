import numpy as np



arr = np.array([3,5,2,33])


np.mean(arr)


np.std(arr)


np.var(arr)


np.prod(arr)


np.sum(arr)


np.percentile(arr,10)


np.sum(arr)


np.argmin(arr)


np.argmax(arr)


np.unique(arr)  #duplicate removed


np.cumsum(arr)



