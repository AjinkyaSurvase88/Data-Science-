import numpy as np


!pip install numpy


arr = np.array([1,2,3])


arr


np.zeros((3,4))


np.ones((3,5))


np.full((3,2),8)


np.eye(5)


np.arange(1,100,9)


np.linspace(1,100,5)


myarr = np.array([[1,2,3],[4,5,6],[6,7,8],[11,12,13]])


myarr


myarr.shape


myarr.size


myarr.ndim #dimention 2D


myarr.dtype


myarr = np.array([[1,2,3],[4,5,6],[6,7,8],[11,12,13]],dtype='float32')


myarr


n = myarr.astype('float64')


n.dtype


myarr = np.array([[1,2,3],[4,5,6],[6,7,8],[11,12,13]])


myarr.shape


reshaped = myarr.reshape((2,6))


reshaped


myarr


myarr.flatten()



