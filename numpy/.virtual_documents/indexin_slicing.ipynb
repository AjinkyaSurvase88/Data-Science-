import numpy as np
arr = np.array([[1,2,3],[4,5,6],[6,7,8],[11,12,13]])


arr


flat=arr.flatten()


flat


flat[0]


flat[3]


flat[3:5]


flat[:5] #same as flat[0:5]


flat[3:] #same as flat[3:length(arr)]


flat[::2]


flat


b = flat[3:7]


b


b[0] = 4444


b


flat


arr = np.array([1,23,43,34,5,56,234,43])


arr[[1,4,6]] # new array of mentioned indices


arr[arr>23] #boolean masking


arr=np.array([[2,3,4],[4,5,6],[7,8,9]])


arr


arr.shape


deci=np.array([1.1,2.2,3.3])


deci.astype('int32')


arr=np.array([1,2,3,4,5,6])


inx=[1,3,5]


print(arr[inx])


arr1=np.array([2,3,45,6,32,23,45,532,12])


arr1.
