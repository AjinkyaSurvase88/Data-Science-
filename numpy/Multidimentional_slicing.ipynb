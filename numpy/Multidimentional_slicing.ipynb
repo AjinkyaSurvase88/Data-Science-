{
 "cells": [
  {
   "cell_type": "code",
   "execution_count": 1,
   "id": "2c164d55-a435-43bb-ba73-042c624f5155",
   "metadata": {},
   "outputs": [],
   "source": [
    "import numpy as np"
   ]
  },
  {
   "cell_type": "code",
   "execution_count": 2,
   "id": "98486238-5194-4f0d-822a-29cc22e977e3",
   "metadata": {},
   "outputs": [],
   "source": [
    "arr = np.array([[1,2,3],\n",
    "                [4,5,6],\n",
    "                [7,8,9]])"
   ]
  },
  {
   "cell_type": "code",
   "execution_count": 3,
   "id": "d3254b57-d08a-4465-b859-e3e63ebb9a0b",
   "metadata": {},
   "outputs": [
    {
     "data": {
      "text/plain": [
       "array([[1, 2, 3],\n",
       "       [4, 5, 6],\n",
       "       [7, 8, 9]])"
      ]
     },
     "execution_count": 3,
     "metadata": {},
     "output_type": "execute_result"
    }
   ],
   "source": [
    "arr"
   ]
  },
  {
   "cell_type": "code",
   "execution_count": 11,
   "id": "1d36bd9a-3ab6-4f00-85cb-13924c0a329c",
   "metadata": {},
   "outputs": [
    {
     "data": {
      "text/plain": [
       "array([12, 15, 18])"
      ]
     },
     "execution_count": 11,
     "metadata": {},
     "output_type": "execute_result"
    }
   ],
   "source": [
    "  np.sum(arr, axis=0) #column"
   ]
  },
  {
   "cell_type": "code",
   "execution_count": 10,
   "id": "1b0ff1de-f538-4625-8fcb-d413d2e04d44",
   "metadata": {},
   "outputs": [
    {
     "data": {
      "text/plain": [
       "array([ 6, 15, 24])"
      ]
     },
     "execution_count": 10,
     "metadata": {},
     "output_type": "execute_result"
    }
   ],
   "source": [
    " np.sum(arr, axis=1) #row"
   ]
  },
  {
   "cell_type": "code",
   "execution_count": 12,
   "id": "5b28ac88-01b2-43c1-acbf-de12ff6ae167",
   "metadata": {},
   "outputs": [
    {
     "data": {
      "text/plain": [
       "2"
      ]
     },
     "execution_count": 12,
     "metadata": {},
     "output_type": "execute_result"
    }
   ],
   "source": [
    "arr[0][1]"
   ]
  },
  {
   "cell_type": "code",
   "execution_count": 13,
   "id": "bc1e9497-b802-4065-8298-f2819755a038",
   "metadata": {},
   "outputs": [
    {
     "data": {
      "text/plain": [
       "2"
      ]
     },
     "execution_count": 13,
     "metadata": {},
     "output_type": "execute_result"
    }
   ],
   "source": [
    "arr[0,1]"
   ]
  },
  {
   "cell_type": "code",
   "execution_count": 14,
   "id": "2f6e75ad-ce9b-47ff-a812-749cc490779b",
   "metadata": {},
   "outputs": [
    {
     "data": {
      "text/plain": [
       "array([[2, 3],\n",
       "       [5, 6]])"
      ]
     },
     "execution_count": 14,
     "metadata": {},
     "output_type": "execute_result"
    }
   ],
   "source": [
    "arr[0:2,1:3]"
   ]
  },
  {
   "cell_type": "code",
   "execution_count": 15,
   "id": "c50de94e-184f-479b-a590-d786e15704bc",
   "metadata": {},
   "outputs": [],
   "source": [
    "arr3D = np.array([[[1,2,3],[4,5,6]],[[7,8,9],[10,11,12]]])"
   ]
  },
  {
   "cell_type": "code",
   "execution_count": 16,
   "id": "c80e0bf0-013c-4cdc-b6a7-e8df4e6b4526",
   "metadata": {},
   "outputs": [
    {
     "name": "stdout",
     "output_type": "stream",
     "text": [
      "[[1 2 3]\n",
      " [7 8 9]]\n"
     ]
    }
   ],
   "source": [
    "print(arr3D[:, 0, :])\n"
   ]
  },
  {
   "cell_type": "code",
   "execution_count": 17,
   "id": "cc503e58-4c78-4d7e-a560-88f3c842fc51",
   "metadata": {},
   "outputs": [
    {
     "name": "stdout",
     "output_type": "stream",
     "text": [
      "[1 2 3]\n"
     ]
    }
   ],
   "source": [
    "print(arr3D[0, 0, :])"
   ]
  },
  {
   "cell_type": "code",
   "execution_count": 19,
   "id": "b7ea7a61-04e9-4b9d-8b74-b14aebd0fe80",
   "metadata": {},
   "outputs": [
    {
     "name": "stdout",
     "output_type": "stream",
     "text": [
      "[1 4]\n"
     ]
    }
   ],
   "source": [
    "print(arr3D[0, :, 0])"
   ]
  },
  {
   "cell_type": "code",
   "execution_count": 21,
   "id": "22b2210b-cd33-4a23-bbf3-9ae95c81b288",
   "metadata": {},
   "outputs": [
    {
     "name": "stdout",
     "output_type": "stream",
     "text": [
      "[1 7]\n"
     ]
    }
   ],
   "source": [
    "print(arr3D[:, 0, 0])"
   ]
  },
  {
   "cell_type": "code",
   "execution_count": 22,
   "id": "8ca3548c-3c9c-4545-bde9-1844003e5a96",
   "metadata": {},
   "outputs": [
    {
     "data": {
      "text/plain": [
       "array([[[ 1,  2,  3],\n",
       "        [ 4,  5,  6]],\n",
       "\n",
       "       [[ 7,  8,  9],\n",
       "        [10, 11, 12]]])"
      ]
     },
     "execution_count": 22,
     "metadata": {},
     "output_type": "execute_result"
    }
   ],
   "source": [
    "arr3D"
   ]
  },
  {
   "cell_type": "code",
   "execution_count": null,
   "id": "459edd47-f7d3-4e19-8017-1c9b74a7f614",
   "metadata": {},
   "outputs": [],
   "source": []
  }
 ],
 "metadata": {
  "kernelspec": {
   "display_name": "Python 3 (ipykernel)",
   "language": "python",
   "name": "python3"
  },
  "language_info": {
   "codemirror_mode": {
    "name": "ipython",
    "version": 3
   },
   "file_extension": ".py",
   "mimetype": "text/x-python",
   "name": "python",
   "nbconvert_exporter": "python",
   "pygments_lexer": "ipython3",
   "version": "3.12.7"
  }
 },
 "nbformat": 4,
 "nbformat_minor": 5
}
