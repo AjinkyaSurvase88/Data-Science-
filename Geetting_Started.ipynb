{
 "cells": [
  {
   "cell_type": "code",
   "execution_count": 1,
   "id": "59e712e7-726d-4ea9-ae8b-7f3514bd36cc",
   "metadata": {},
   "outputs": [],
   "source": [
    "import pandas as pd"
   ]
  },
  {
   "cell_type": "code",
   "execution_count": 5,
   "id": "0859782a-127a-44a9-a3ea-9fefb3fc6e2a",
   "metadata": {},
   "outputs": [],
   "source": [
    "s1 = pd.Series([72,54,56,45,34,33,67])"
   ]
  },
  {
   "cell_type": "code",
   "execution_count": 6,
   "id": "0fe56902-7b6e-4e60-a087-8a1c5de2b307",
   "metadata": {},
   "outputs": [
    {
     "data": {
      "text/plain": [
       "pandas.core.series.Series"
      ]
     },
     "execution_count": 6,
     "metadata": {},
     "output_type": "execute_result"
    }
   ],
   "source": [
    "type(s)"
   ]
  },
  {
   "cell_type": "code",
   "execution_count": 7,
   "id": "ef50fae3-0dbb-4222-bddb-4ac13821babc",
   "metadata": {},
   "outputs": [
    {
     "data": {
      "text/plain": [
       "0    72\n",
       "1    54\n",
       "2    56\n",
       "3    45\n",
       "4    34\n",
       "5    33\n",
       "6    67\n",
       "dtype: int64"
      ]
     },
     "execution_count": 7,
     "metadata": {},
     "output_type": "execute_result"
    }
   ],
   "source": [
    "s"
   ]
  },
  {
   "cell_type": "code",
   "execution_count": 9,
   "id": "9d5347c3-7197-400c-8046-9510e8d34282",
   "metadata": {},
   "outputs": [],
   "source": [
    "s2 = pd.Series([72,54,56,45,34,33,67],index=[\"Ajinkya\",\"Shubh\",\"Rohan\",\"akash\",\"Mahesh\",\"amol\",'vishwa'])"
   ]
  },
  {
   "cell_type": "code",
   "execution_count": 10,
   "id": "42a398e5-eecb-4bd8-87e6-f0758cfa91fe",
   "metadata": {},
   "outputs": [
    {
     "data": {
      "text/plain": [
       "Ajinkya    72\n",
       "Shubh      54\n",
       "Rohan      56\n",
       "akash      45\n",
       "Mahesh     34\n",
       "amol       33\n",
       "vishwa     67\n",
       "dtype: int64"
      ]
     },
     "execution_count": 10,
     "metadata": {},
     "output_type": "execute_result"
    }
   ],
   "source": [
    "s2"
   ]
  },
  {
   "cell_type": "code",
   "execution_count": 11,
   "id": "1f35fb32-c648-4a50-94e8-e86613fd96ce",
   "metadata": {},
   "outputs": [],
   "source": [
    "data = {\n",
    "    \"name\": [\"Alice\", \"Bob\", \"Charlie\"],\n",
    "    \"age\": [25, 30, 35],\n",
    "    \"city\": [\"Delhi\", \"Mumbai\", \"Bangalore\"]\n",
    "}\n"
   ]
  },
  {
   "cell_type": "code",
   "execution_count": 12,
   "id": "0d895e93-cd1a-445f-ab2e-499e3b774719",
   "metadata": {},
   "outputs": [
    {
     "name": "stdout",
     "output_type": "stream",
     "text": [
      "      name  age       city\n",
      "0    Alice   25      Delhi\n",
      "1      Bob   30     Mumbai\n",
      "2  Charlie   35  Bangalore\n"
     ]
    }
   ],
   "source": [
    " \n",
    "df = pd.DataFrame(data)\n",
    "print(df)"
   ]
  },
  {
   "cell_type": "code",
   "execution_count": 13,
   "id": "d16b7904-5ab9-4be1-8dc3-bd9d72697d86",
   "metadata": {},
   "outputs": [
    {
     "data": {
      "text/plain": [
       "RangeIndex(start=0, stop=3, step=1)"
      ]
     },
     "execution_count": 13,
     "metadata": {},
     "output_type": "execute_result"
    }
   ],
   "source": [
    "df .index"
   ]
  },
  {
   "cell_type": "code",
   "execution_count": 14,
   "id": "8a02f6ca-31af-488f-873b-60b54440dc31",
   "metadata": {},
   "outputs": [
    {
     "data": {
      "text/plain": [
       "Index(['name', 'age', 'city'], dtype='object')"
      ]
     },
     "execution_count": 14,
     "metadata": {},
     "output_type": "execute_result"
    }
   ],
   "source": [
    "df.columns"
   ]
  },
  {
   "cell_type": "code",
   "execution_count": null,
   "id": "10075e07-c979-4b1f-bc30-2aaa4f114e69",
   "metadata": {},
   "outputs": [],
   "source": []
  }
 ],
 "metadata": {
  "kernelspec": {
   "display_name": "Python 3 (ipykernel)",
   "language": "python",
   "name": "python3"
  },
  "language_info": {
   "codemirror_mode": {
    "name": "ipython",
    "version": 3
   },
   "file_extension": ".py",
   "mimetype": "text/x-python",
   "name": "python",
   "nbconvert_exporter": "python",
   "pygments_lexer": "ipython3",
   "version": "3.12.7"
  }
 },
 "nbformat": 4,
 "nbformat_minor": 5
}
