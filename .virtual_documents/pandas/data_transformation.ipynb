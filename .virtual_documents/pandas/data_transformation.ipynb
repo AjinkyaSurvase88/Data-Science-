import pandas as pd


df = pd.read_csv("raw_data.csv")


 df.head()


df.sort_values("Age")


df.sort_values("Age",ascending=False)



