import pandas as pd


df = pd.read_csv("data.csv")


df['Actor']


df['Actor'][3]


df.head()


type(df['Actor'])


df[['Actor','IMDb']]


df.loc[7,'IMDb']


df.iloc[7,5]


df.loc[0:2, ["Actor", "IMDb", "Film"]]


df.iloc[0:2, 0:2]


df.at[0,"Actor"]


df.iat[0,0]


df[df['IMDb']>7]


df[(df['IMDb']>7) & (df['Year']>2020)]


 df[['Actor','IMDb']]


df.loc[0:2,["Actor","IMDb"]]


df.iloc[0:2,0:2]


df.at[0,"Actor"]


df.iat[0,0]


df[df['IMDb']>6]['Actor']


df[(df['IMDb']>6) & (df['Year']>2018)]


df[(df['IMDb']>6) | (df['Year']>2019)]


df.query("Year > 2019 and IMDb > 6" )


df2=df[['Actor','IMDb']]


df2



