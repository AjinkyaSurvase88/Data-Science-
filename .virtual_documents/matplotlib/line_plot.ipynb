import matplotlib.pyplot as plt


plt.plot([1,2,3],[4,5,6])
plt.show()


years = [1990, 1992, 1994, 1996, 1998, 2000, 2003, 2005, 2007, 2010]
runs =  [500, 700, 1100, 1500, 1800, 1200, 1700, 1300, 900, 1500]
 
plt.plot(years, runs)
plt.show()


plt.plot(years, runs)
plt.xlabel("Year")
plt.ylabel("Runs Scored")
plt.title("Sachin Tendulkar's Yearly Runs")
plt.show()


kohli = [0, 0, 500, 800, 1100, 1300, 1500, 1800, 1900, 2100]
sehwag = [0, 300, 800, 1200, 1500, 1700, 1600, 1400, 1000, 0]
 
plt.plot(years, kohli, label="Virat Kohli")
plt.plot(years, sehwag, label="Virender Sehwag")
 
plt.xlabel("Year")
plt.ylabel("Runs Scored")
plt.title("Performance Comparison")
plt.legend()
plt.show()


plt.plot(years, kohli)
plt.plot(years, sehwag)
plt.legend(["Kohli", "Sehwag"])  # prone to mismatch


plt.plot(years, kohli, label="Kohli")
plt.plot(years, sehwag, label="Sehwag")
plt.legend()


plt.plot(years, kohli, color='orange', linestyle='--', label="Kohli")
plt.plot(years, sehwag, color='green', linestyle='-.', label="Sehwag")
plt.plot(years, runs, color='blue', label="Tendulkar")
plt.legend()


plt.plot(years, kohli, linewidth=3, label="Kohli")
plt.plot(years, sehwag, linewidth=2, label="Sehwag")
plt.legend()
plt.grid(True)
plt.tight_layout()
plt.show()
plt.style.use("ggplot")


print(plt.style.available)


plt.style.use("ggplot")
# or
#plt.style.use("seaborn-v0_8-bright")


plt.plot(years, kohli, linewidth=3, label="Kohli")
plt.plot(years, sehwag, linewidth=2, label="Sehwag")
plt.legend()
plt.grid(True)
plt.tight_layout()
plt.show()
plt.style.use("seaborn-v0_8-bright")


with plt.xkcd():
    plt.plot(years, kohli, label="Kohli")
    plt.plot(years, sehwag, label="Sehwag")
    plt.title("Epic Battle of the Batsmen")
    plt.legend()
    plt.show()


kohli = [0, 0, 500, 800, 1100, 1300, 1500, 1800, 1900, 2100]
sehwag = [0, 300, 800, 1200, 1500, 1700, 1600, 1400, 1000, 0]
rohit =  [500, 700, 1100, 1500, 1800, 1200, 1700, 1300, 900, 1500]

years = [1995, 1996, 1997, 1998, 1999, 2000, 2001, 2002, 2003, 2004]


plt.plot(years, kohli, 'ro--',label="virat")
plt.plot(years, rohit, 'g^:', label="rohit")
plt.plot(years, sehwag, 'b^-',label="sehwag")

plt.xlabel("Year")
plt.ylabel("Runs Scored")
plt.title("Performance Comparison")

# plt.style.use("seaborn-v0_8-bright")

plt.legend()

plt.show()


import matplotlib.pyplot as plt

# Sample data
x = [1, 2, 3, 4, 5]
y1 = [1, 4, 9, 16, 25]
y2 = [1, 2, 3, 4, 5]

# Plot two lines
plt.plot(x, y1, label="Squares", color="red")
plt.plot(x, y2, label="Line", color="blue")

# Add labels and title
plt.xlabel("X-axis")
plt.ylabel("Y-axis")
plt.title("Example with Grid and Tight Layout")

# Show legend
plt.legend()

# Add grid for better readability
plt.grid(True)

# Adjust layout to avoid overlap
plt.tight_layout()

# Show the plot
plt.show()



import matplotlib.pyplot as plt

# Sample data
x = [1, 2, 3, 4, 5]
y1 = [1, 4, 9, 16, 25]
y2 = [1, 2, 3, 4, 5]

# Plot two lines
plt.plot(x, y1, label="Squares", color="red")
plt.plot(x, y2, label="Line", color="blue")

# Add labels and title
plt.xlabel("X-axis")
plt.ylabel("Y-axis")
plt.title("Example without Grid and Tight Layout")

# Show legend
plt.legend()

# No grid and no layout adjustment
plt.show()




